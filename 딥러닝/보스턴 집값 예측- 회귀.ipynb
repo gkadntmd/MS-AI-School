{
 "cells": [
  {
   "cell_type": "code",
   "execution_count": 1,
   "id": "0def1515",
   "metadata": {},
   "outputs": [],
   "source": [
    "import keras\n",
    "import numpy as np\n",
    "import matplotlib.pyplot as plt"
   ]
  },
  {
   "cell_type": "code",
   "execution_count": 2,
   "id": "29f36647",
   "metadata": {},
   "outputs": [
    {
     "name": "stdout",
     "output_type": "stream",
     "text": [
      "Downloading data from https://storage.googleapis.com/tensorflow/tf-keras-datasets/boston_housing.npz\n",
      "57026/57026 [==============================] - 0s 0us/step\n"
     ]
    }
   ],
   "source": [
    "#데이터셋 \n",
    "from keras.datasets import boston_housing\n",
    "(train_data,train_labels),(test_data,test_labels)=boston_housing.load_data()"
   ]
  },
  {
   "cell_type": "code",
   "execution_count": 3,
   "id": "100ee2be",
   "metadata": {},
   "outputs": [
    {
     "data": {
      "text/plain": [
       "(404, 13)"
      ]
     },
     "execution_count": 3,
     "metadata": {},
     "output_type": "execute_result"
    }
   ],
   "source": [
    "train_data.sha"
   ]
  },
  {
   "cell_type": "code",
   "execution_count": 4,
   "id": "ae1829b2",
   "metadata": {},
   "outputs": [],
   "source": [
    "mean= train_data.mean(axis=0)\n"
   ]
  },
  {
   "cell_type": "code",
   "execution_count": 5,
   "id": "f72bcb6e",
   "metadata": {},
   "outputs": [],
   "source": [
    "train_data-=mean\n"
   ]
  },
  {
   "cell_type": "code",
   "execution_count": 7,
   "id": "0ee7d6d9",
   "metadata": {},
   "outputs": [],
   "source": [
    "std=train_data.std(axis=0)"
   ]
  },
  {
   "cell_type": "code",
   "execution_count": null,
   "id": "83b8c391",
   "metadata": {},
   "outputs": [],
   "source": [
    "train_data=train_data/std"
   ]
  },
  {
   "cell_type": "code",
   "execution_count": 8,
   "id": "a89045ec",
   "metadata": {},
   "outputs": [
    {
     "data": {
      "text/plain": [
       "array([[ -2.51264057, -11.48019802,  -2.96443069, ...,   2.5240099 ,\n",
       "         42.11683168,   5.97918317],\n",
       "       [ -3.72334057,  71.01980198,  -9.07443069, ...,  -3.7759901 ,\n",
       "         40.59683168,  -9.63081683],\n",
       "       [  1.15310943, -11.48019802,   6.99556931, ...,   1.7240099 ,\n",
       "         20.73683168,  -9.48081683],\n",
       "       ...,\n",
       "       [ -3.71045057,  23.51980198,  -5.04443069, ...,  -1.5759901 ,\n",
       "          7.46683168,  -4.91081683],\n",
       "       [ -1.59593057, -11.48019802,   8.47556931, ...,  -3.7759901 ,\n",
       "        -92.83316832,   3.04918317],\n",
       "       [ -3.73072057,  48.51980198,  -8.17443069, ...,  -2.8759901 ,\n",
       "         21.91683168,  -8.36081683]])"
      ]
     },
     "execution_count": 8,
     "metadata": {},
     "output_type": "execute_result"
    }
   ],
   "source": [
    "train_data"
   ]
  },
  {
   "cell_type": "code",
   "execution_count": 9,
   "id": "ec389e6e",
   "metadata": {},
   "outputs": [],
   "source": [
    "mean=test_data.mean(axis=0)\n",
    "test_data-=mean\n",
    "std=test_data.std(axis=0)\n",
    "test_data /=std"
   ]
  },
  {
   "cell_type": "code",
   "execution_count": 14,
   "id": "78268112",
   "metadata": {},
   "outputs": [],
   "source": [
    "from keras import models\n",
    "from keras import layers\n",
    "\n",
    "def bulid_model():\n",
    "    model = models.Sequential()\n",
    "    model.add(layers.Dense(64,activation='relu',input_shape=(train_data.shape[1],)))\n",
    "    model.add(layers.Dense(64,activation=\"relu\"))\n",
    "    model.add(layers.Dense(1))\n",
    "    \n",
    "    \n",
    "    model.compile(optimizer='rmsprop',loss='mse',metrics=['mae'])\n",
    "    \n",
    "    return model"
   ]
  },
  {
   "cell_type": "code",
   "execution_count": 18,
   "id": "d7dc660e",
   "metadata": {},
   "outputs": [
    {
     "name": "stdout",
     "output_type": "stream",
     "text": [
      "처리중인 폴드# 0\n",
      "처리중인 폴드# 1\n",
      "처리중인 폴드# 2\n",
      "처리중인 폴드# 3\n"
     ]
    }
   ],
   "source": [
    "#k-fold 검증\n",
    "k=4\n",
    "num_epochs=500\n",
    "\n",
    "num_val_samples=len(train_data)//k # 폴더의 사이즈\n",
    "all_score=[]\n",
    "\n",
    "for i in range(k):\n",
    "    print(\"처리중인 폴드#\",i)\n",
    "    \n",
    "    #검증 데이터 준비 :k번쨰 분할\n",
    "    val_data=train_data[i*num_val_samples:(i+1)*num_val_samples]\n",
    "    val_labels=train_labels[i*num_val_samples:(i+1)*num_val_samples]\n",
    "    \n",
    "    #훈련 데이터 준비:\n",
    "    partial_train_data=np.concatenate([train_data[:i*num_val_samples],train_data[(i+1)*num_val_samples:]],axis=0)\n",
    "    \n",
    "    #라벨 데이터\n",
    "    partial_train_labels=np.concatenate([train_labels[:i*num_val_samples],train_labels[(i+1)*num_val_samples:]],axis=0)\n",
    "    #print(i,(i+1)+num_val_samples)\n",
    "    #모델\n",
    "    model=bulid_model()\n",
    "    history=model.fit(partial_train_data,partial_train_labels,epochs=num_epochs,batch_size=1,verbose=0,validation_data=(val_data,val_labels))\n",
    "    \n",
    "    mae_history=history.history[\"mae\"]\n",
    "    \n",
    "    #val_mse,val_mae=model.evaluate(val_data,val_labels)\n",
    "    all_score.append(mae_history)\n",
    "    \n"
   ]
  },
  {
   "cell_type": "code",
   "execution_count": 27,
   "id": "6f30573b",
   "metadata": {},
   "outputs": [],
   "source": [
    "average_mae_history=[np.mean([x[i] for x in all_score] ) for i in range(num_epochs)]"
   ]
  },
  {
   "cell_type": "code",
   "execution_count": 28,
   "id": "2b80969a",
   "metadata": {},
   "outputs": [
    {
     "data": {
      "text/plain": [
       "Text(0, 0.5, 'Validation MAE')"
      ]
     },
     "execution_count": 28,
     "metadata": {},
     "output_type": "execute_result"
    },
    {
     "data": {
      "image/png": "[encoded data removed]",
      "text/plain": [
       "<Figure size 432x288 with 1 Axes>"
      ]
     },
     "metadata": {
      "needs_background": "light"
     },
     "output_type": "display_data"
    }
   ],
   "source": [
    "plt.plot(range(1,len(average_mae_history)+1),average_mae_history)\n",
    "plt.xlabel(\"Epochs\")\n",
    "plt.ylabel(\"Validation MAE\")"
   ]
  },
  {
   "cell_type": "code",
   "execution_count": null,
   "id": "d6d65f7a",
   "metadata": {},
   "outputs": [],
   "source": []
  }
 ],
 "metadata": {
  "kernelspec": {
   "display_name": "Python 3 (ipykernel)",
   "language": "python",
   "name": "python3"
  },
  "language_info": {
   "codemirror_mode": {
    "name": "ipython",
    "version": 3
   },
   "file_extension": ".py",
   "mimetype": "text/x-python",
   "name": "python",
   "nbconvert_exporter": "python",
   "pygments_lexer": "ipython3",
   "version": "3.9.12"
  }
 },
 "nbformat": 4,
 "nbformat_minor": 5
}

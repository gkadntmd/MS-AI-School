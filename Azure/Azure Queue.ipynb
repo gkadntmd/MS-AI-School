{
 "cells": [
  {
   "cell_type": "code",
   "execution_count": 1,
   "id": "6716ae85",
   "metadata": {},
   "outputs": [
    {
     "name": "stdout",
     "output_type": "stream",
     "text": [
      "Collecting azure-storage-queue==2.1.0\n",
      "  Downloading azure_storage_queue-2.1.0-py2.py3-none-any.whl (24 kB)\n",
      "Requirement already satisfied: azure-storage-common~=2.1 in c:\\users\\user\\anaconda3\\lib\\site-packages (from azure-storage-queue==2.1.0) (2.1.0)\n",
      "Requirement already satisfied: azure-common>=1.1.5 in c:\\users\\user\\anaconda3\\lib\\site-packages (from azure-storage-queue==2.1.0) (1.1.28)\n",
      "Requirement already satisfied: cryptography in c:\\users\\user\\anaconda3\\lib\\site-packages (from azure-storage-common~=2.1->azure-storage-queue==2.1.0) (3.4.8)\n",
      "Requirement already satisfied: requests in c:\\users\\user\\anaconda3\\lib\\site-packages (from azure-storage-common~=2.1->azure-storage-queue==2.1.0) (2.27.1)\n",
      "Requirement already satisfied: python-dateutil in c:\\users\\user\\anaconda3\\lib\\site-packages (from azure-storage-common~=2.1->azure-storage-queue==2.1.0) (2.8.2)\n",
      "Requirement already satisfied: cffi>=1.12 in c:\\users\\user\\anaconda3\\lib\\site-packages (from cryptography->azure-storage-common~=2.1->azure-storage-queue==2.1.0) (1.15.0)\n",
      "Requirement already satisfied: six>=1.5 in c:\\users\\user\\anaconda3\\lib\\site-packages (from python-dateutil->azure-storage-common~=2.1->azure-storage-queue==2.1.0) (1.16.0)\n",
      "Requirement already satisfied: certifi>=2017.4.17 in c:\\users\\user\\anaconda3\\lib\\site-packages (from requests->azure-storage-common~=2.1->azure-storage-queue==2.1.0) (2021.10.8)\n",
      "Requirement already satisfied: charset-normalizer~=2.0.0 in c:\\users\\user\\anaconda3\\lib\\site-packages (from requests->azure-storage-common~=2.1->azure-storage-queue==2.1.0) (2.0.4)\n",
      "Requirement already satisfied: idna<4,>=2.5 in c:\\users\\user\\anaconda3\\lib\\site-packages (from requests->azure-storage-common~=2.1->azure-storage-queue==2.1.0) (3.3)\n",
      "Requirement already satisfied: urllib3<1.27,>=1.21.1 in c:\\users\\user\\anaconda3\\lib\\site-packages (from requests->azure-storage-common~=2.1->azure-storage-queue==2.1.0) (1.26.9)\n",
      "Requirement already satisfied: pycparser in c:\\users\\user\\anaconda3\\lib\\site-packages (from cffi>=1.12->cryptography->azure-storage-common~=2.1->azure-storage-queue==2.1.0) (2.21)\n",
      "Installing collected packages: azure-storage-queue\n",
      "Successfully installed azure-storage-queue-2.1.0\n"
     ]
    }
   ],
   "source": [
    "!pip install azure-storage-queue==2.1.0"
   ]
  },
  {
   "cell_type": "code",
   "execution_count": 2,
   "id": "87b7c1f9",
   "metadata": {},
   "outputs": [],
   "source": [
    "from azure.storage.queue import QueueService,QueueMessageFormat"
   ]
  },
  {
   "cell_type": "code",
   "execution_count": 3,
   "id": "00f43ea0",
   "metadata": {},
   "outputs": [],
   "source": [
    "import os,uuid"
   ]
  },
  {
   "cell_type": "code",
   "execution_count": 21,
   "id": "77ff009e",
   "metadata": {},
   "outputs": [
    {
     "name": "stdout",
     "output_type": "stream",
     "text": [
      "queue-5f7e82cb-29b2-47d8-ac70-ea701f5d2dc1\n"
     ]
    },
    {
     "data": {
      "text/plain": [
       "True"
      ]
     },
     "execution_count": 21,
     "metadata": {},
     "output_type": "execute_result"
    }
   ],
   "source": [
    "connect_str = '커낵트 키 입력'\n",
    "queue_name = 'queue-'+str(uuid.uuid4())\n",
    "\n",
    "print(queue_name)\n",
    "queue_service=QueueService(connection_string=connect_str)\n",
    "\n",
    "queue_service.create_queue(queue_name)"
   ]
  },
  {
   "cell_type": "code",
   "execution_count": 22,
   "id": "8d96f9d8",
   "metadata": {},
   "outputs": [
    {
     "name": "stdout",
     "output_type": "stream",
     "text": [
      "Adding message:Hello Queue\n"
     ]
    },
    {
     "data": {
      "text/plain": [
       "<azure.storage.queue.models.QueueMessage at 0x21f937a1dc0>"
      ]
     },
     "execution_count": 22,
     "metadata": {},
     "output_type": "execute_result"
    }
   ],
   "source": [
    "queue_service.encode_function=QueueMessageFormat.binary_base64encode\n",
    "queue_service.decode_function=QueueMessageFormat.binary_base64decode\n",
    "import base64\n",
    "message=\"Hello Queue\"\n",
    "\n",
    "print(\"Adding message:\"+message)\n",
    "message=base64.b64encode(message.encode('utf-8'))\n",
    "queue_service.put_message(queue_name,message)"
   ]
  },
  {
   "cell_type": "code",
   "execution_count": 23,
   "id": "d88ac1f9",
   "metadata": {},
   "outputs": [
    {
     "name": "stdout",
     "output_type": "stream",
     "text": [
      "Peeked message:Hello Queue\n"
     ]
    }
   ],
   "source": [
    "messages=queue_service.peek_messages(queue_name=queue_name)\n",
    "\n",
    "for peeked_message in messages:\n",
    "    message=base64.b64decode(peeked_message.content)\n",
    "    print('Peeked message:'+message.decode('utf-8'))"
   ]
  },
  {
   "cell_type": "code",
   "execution_count": 24,
   "id": "6dbafa80",
   "metadata": {},
   "outputs": [
    {
     "name": "stdout",
     "output_type": "stream",
     "text": [
      "Message:Hello Queue\n"
     ]
    }
   ],
   "source": [
    "messages= queue_service.get_messages(queue_name)\n",
    "for msg in messages:\n",
    "    message=base64.b64decode(msg.content)\n",
    "    print('Message:'+message.decode('utf-8'))"
   ]
  },
  {
   "cell_type": "code",
   "execution_count": null,
   "id": "079e2d60",
   "metadata": {},
   "outputs": [],
   "source": [
    "print(\"Deleting queue\")\n"
   ]
  }
 ],
 "metadata": {
  "kernelspec": {
   "display_name": "Python 3 (ipykernel)",
   "language": "python",
   "name": "python3"
  },
  "language_info": {
   "codemirror_mode": {
    "name": "ipython",
    "version": 3
   },
   "file_extension": ".py",
   "mimetype": "text/x-python",
   "name": "python",
   "nbconvert_exporter": "python",
   "pygments_lexer": "ipython3",
   "version": "3.9.12"
  }
 },
 "nbformat": 4,
 "nbformat_minor": 5
}

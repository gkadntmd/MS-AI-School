{
 "cells": [
  {
   "cell_type": "code",
   "execution_count": 1,
   "id": "c722dfbb",
   "metadata": {},
   "outputs": [
    {
     "name": "stdout",
     "output_type": "stream",
     "text": [
      "Collecting azure-storage-file\n",
      "  Downloading azure_storage_file-2.1.0-py2.py3-none-any.whl (36 kB)\n",
      "Collecting azure-storage-common~=2.1\n",
      "  Downloading azure_storage_common-2.1.0-py2.py3-none-any.whl (47 kB)\n",
      "     ---------------------------------------- 47.8/47.8 kB ? eta 0:00:00\n",
      "Collecting azure-common>=1.1.5\n",
      "  Downloading azure_common-1.1.28-py2.py3-none-any.whl (14 kB)\n",
      "Requirement already satisfied: requests in c:\\users\\user\\anaconda3\\lib\\site-packages (from azure-storage-common~=2.1->azure-storage-file) (2.27.1)\n",
      "Requirement already satisfied: cryptography in c:\\users\\user\\anaconda3\\lib\\site-packages (from azure-storage-common~=2.1->azure-storage-file) (3.4.8)\n",
      "Requirement already satisfied: python-dateutil in c:\\users\\user\\anaconda3\\lib\\site-packages (from azure-storage-common~=2.1->azure-storage-file) (2.8.2)\n",
      "Requirement already satisfied: cffi>=1.12 in c:\\users\\user\\anaconda3\\lib\\site-packages (from cryptography->azure-storage-common~=2.1->azure-storage-file) (1.15.0)\n",
      "Requirement already satisfied: six>=1.5 in c:\\users\\user\\anaconda3\\lib\\site-packages (from python-dateutil->azure-storage-common~=2.1->azure-storage-file) (1.16.0)\n",
      "Requirement already satisfied: urllib3<1.27,>=1.21.1 in c:\\users\\user\\anaconda3\\lib\\site-packages (from requests->azure-storage-common~=2.1->azure-storage-file) (1.26.9)\n",
      "Requirement already satisfied: certifi>=2017.4.17 in c:\\users\\user\\anaconda3\\lib\\site-packages (from requests->azure-storage-common~=2.1->azure-storage-file) (2021.10.8)\n",
      "Requirement already satisfied: charset-normalizer~=2.0.0 in c:\\users\\user\\anaconda3\\lib\\site-packages (from requests->azure-storage-common~=2.1->azure-storage-file) (2.0.4)\n",
      "Requirement already satisfied: idna<4,>=2.5 in c:\\users\\user\\anaconda3\\lib\\site-packages (from requests->azure-storage-common~=2.1->azure-storage-file) (3.3)\n",
      "Requirement already satisfied: pycparser in c:\\users\\user\\anaconda3\\lib\\site-packages (from cffi>=1.12->cryptography->azure-storage-common~=2.1->azure-storage-file) (2.21)\n",
      "Installing collected packages: azure-common, azure-storage-common, azure-storage-file\n",
      "Successfully installed azure-common-1.1.28 azure-storage-common-2.1.0 azure-storage-file-2.1.0\n"
     ]
    }
   ],
   "source": [
    "!pip install azure-storage-file"
   ]
  },
  {
   "cell_type": "code",
   "execution_count": 3,
   "id": "835d6e83",
   "metadata": {},
   "outputs": [],
   "source": [
    "from azure.storage.file import FileService\n",
    "file_service = FileService(account_name='스토리지 이름 입력',account_key=\"스토리지 키값 입력\"\n",
    "#실제 작업시에는 키를 따로 관리해야함.. 안하면 혼남\n",
    "\n"
   ]
  },
  {
   "cell_type": "code",
   "execution_count": 4,
   "id": "8323080a",
   "metadata": {},
   "outputs": [
    {
     "data": {
      "text/plain": [
       "True"
      ]
     },
     "execution_count": 4,
     "metadata": {},
     "output_type": "execute_result"
    }
   ],
   "source": [
    "file_service.create_share('myshare')"
   ]
  },
  {
   "cell_type": "code",
   "execution_count": 5,
   "id": "53d68fa4",
   "metadata": {},
   "outputs": [
    {
     "data": {
      "text/plain": [
       "True"
      ]
     },
     "execution_count": 5,
     "metadata": {},
     "output_type": "execute_result"
    }
   ],
   "source": [
    "file_service.create_directory('myshare','sampledir')"
   ]
  },
  {
   "cell_type": "code",
   "execution_count": 6,
   "id": "21392791",
   "metadata": {},
   "outputs": [],
   "source": [
    "from azure.storage.file import ContentSettings\n",
    "\n",
    "file_service.create_file_from_path('myshare',None,\"myfile\",'314b2za481tttx0f25aq.jpg',\n",
    "                                   content_settings=ContentSettings(content_type=\"image/jpg\"))"
   ]
  },
  {
   "cell_type": "code",
   "execution_count": 9,
   "id": "6b05ab65",
   "metadata": {},
   "outputs": [
    {
     "name": "stdout",
     "output_type": "stream",
     "text": [
      "myfile\n",
      "sampledir\n"
     ]
    }
   ],
   "source": [
    "generator=file_service.list_directories_and_files('myshare')\n",
    "for i in generator:\n",
    "    print(i.name)"
   ]
  },
  {
   "cell_type": "code",
   "execution_count": 10,
   "id": "0ba822bf",
   "metadata": {},
   "outputs": [
    {
     "data": {
      "text/plain": [
       "<azure.storage.file.models.File at 0x1c87615a2e0>"
      ]
     },
     "execution_count": 10,
     "metadata": {},
     "output_type": "execute_result"
    }
   ],
   "source": [
    "file_service.get_file_to_path('myshare',None,'myfile','out-dog.jpg')"
   ]
  },
  {
   "cell_type": "code",
   "execution_count": null,
   "id": "3c529144",
   "metadata": {},
   "outputs": [],
   "source": []
  }
 ],
 "metadata": {
  "kernelspec": {
   "display_name": "Python 3 (ipykernel)",
   "language": "python",
   "name": "python3"
  },
  "language_info": {
   "codemirror_mode": {
    "name": "ipython",
    "version": 3
   },
   "file_extension": ".py",
   "mimetype": "text/x-python",
   "name": "python",
   "nbconvert_exporter": "python",
   "pygments_lexer": "ipython3",
   "version": "3.9.12"
  }
 },
 "nbformat": 4,
 "nbformat_minor": 5
}

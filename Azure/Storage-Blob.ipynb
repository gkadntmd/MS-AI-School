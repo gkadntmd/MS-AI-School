{
 "cells": [
  {
   "cell_type": "code",
   "execution_count": 2,
   "id": "364309ad",
   "metadata": {},
   "outputs": [
    {
     "name": "stdout",
     "output_type": "stream",
     "text": [
      "Requirement already satisfied: azure-storage-blob in c:\\users\\user\\anaconda3\\lib\\site-packages (12.14.1)\n",
      "Requirement already satisfied: cryptography>=2.1.4 in c:\\users\\user\\anaconda3\\lib\\site-packages (from azure-storage-blob) (3.4.8)\n",
      "Requirement already satisfied: msrest>=0.7.1 in c:\\users\\user\\anaconda3\\lib\\site-packages (from azure-storage-blob) (0.7.1)\n",
      "Requirement already satisfied: azure-core<2.0.0,>=1.24.2 in c:\\users\\user\\anaconda3\\lib\\site-packages (from azure-storage-blob) (1.26.1)\n",
      "Requirement already satisfied: six>=1.11.0 in c:\\users\\user\\anaconda3\\lib\\site-packages (from azure-core<2.0.0,>=1.24.2->azure-storage-blob) (1.16.0)\n",
      "Requirement already satisfied: requests>=2.18.4 in c:\\users\\user\\anaconda3\\lib\\site-packages (from azure-core<2.0.0,>=1.24.2->azure-storage-blob) (2.27.1)\n",
      "Requirement already satisfied: typing-extensions>=4.0.1 in c:\\users\\user\\anaconda3\\lib\\site-packages (from azure-core<2.0.0,>=1.24.2->azure-storage-blob) (4.1.1)\n",
      "Requirement already satisfied: cffi>=1.12 in c:\\users\\user\\anaconda3\\lib\\site-packages (from cryptography>=2.1.4->azure-storage-blob) (1.15.0)\n",
      "Requirement already satisfied: certifi>=2017.4.17 in c:\\users\\user\\anaconda3\\lib\\site-packages (from msrest>=0.7.1->azure-storage-blob) (2021.10.8)\n",
      "Requirement already satisfied: isodate>=0.6.0 in c:\\users\\user\\anaconda3\\lib\\site-packages (from msrest>=0.7.1->azure-storage-blob) (0.6.1)\n",
      "Requirement already satisfied: requests-oauthlib>=0.5.0 in c:\\users\\user\\anaconda3\\lib\\site-packages (from msrest>=0.7.1->azure-storage-blob) (1.3.1)\n",
      "Requirement already satisfied: pycparser in c:\\users\\user\\anaconda3\\lib\\site-packages (from cffi>=1.12->cryptography>=2.1.4->azure-storage-blob) (2.21)\n",
      "Requirement already satisfied: charset-normalizer~=2.0.0 in c:\\users\\user\\anaconda3\\lib\\site-packages (from requests>=2.18.4->azure-core<2.0.0,>=1.24.2->azure-storage-blob) (2.0.4)\n",
      "Requirement already satisfied: idna<4,>=2.5 in c:\\users\\user\\anaconda3\\lib\\site-packages (from requests>=2.18.4->azure-core<2.0.0,>=1.24.2->azure-storage-blob) (3.3)\n",
      "Requirement already satisfied: urllib3<1.27,>=1.21.1 in c:\\users\\user\\anaconda3\\lib\\site-packages (from requests>=2.18.4->azure-core<2.0.0,>=1.24.2->azure-storage-blob) (1.26.9)\n",
      "Requirement already satisfied: oauthlib>=3.0.0 in c:\\users\\user\\anaconda3\\lib\\site-packages (from requests-oauthlib>=0.5.0->msrest>=0.7.1->azure-storage-blob) (3.2.2)\n"
     ]
    }
   ],
   "source": [
    "!pip install azure-storage-blob"
   ]
  },
  {
   "cell_type": "code",
   "execution_count": 4,
   "id": "45a38744",
   "metadata": {},
   "outputs": [],
   "source": [
    "#필요패키지 로드\n",
    "import os,uuid\n",
    "from azure.storage.blob import BlobServiceClient,BlobClient,ContainerClient"
   ]
  },
  {
   "cell_type": "code",
   "execution_count": 5,
   "id": "5d202953",
   "metadata": {},
   "outputs": [],
   "source": [
    "# Blob 서비스에 연결\n",
    "connect_string='azure portal 에서 키 복사'\n",
    "blob_service_clinet= BlobServiceClient.from_connection_string(connect_string)"
   ]
  },
  {
   "cell_type": "code",
   "execution_count": 7,
   "id": "4612b2f2",
   "metadata": {},
   "outputs": [],
   "source": [
    "#Container 생성\n",
    "container_name=str(uuid.uuid4())#겹치지않는 난수 생성\n",
    "\n",
    "container_client=blob_service_clinet.create_container(container_name)"
   ]
  },
  {
   "cell_type": "code",
   "execution_count": 10,
   "id": "a1a632e8",
   "metadata": {},
   "outputs": [],
   "source": [
    "#데이터 업로드\n",
    "local_path='./data'\n",
    "os.mkdir(local_path)\n",
    "\n",
    "local_file_name=str(uuid.uuid4())+'.txt'\n",
    "upload_file_path=os.path.join(local_path,local_file_name)\n"
   ]
  },
  {
   "cell_type": "code",
   "execution_count": 12,
   "id": "8c195205",
   "metadata": {},
   "outputs": [],
   "source": [
    "#업로드 할 파일 준비\n",
    "file=open(file=upload_file_path,mode=\"w\")\n",
    "file.write(\"Hello Azure Storage\")\n",
    "file.close()\n",
    "\n",
    "blob_client=blob_service_clinet.get_blob_client(container=container_name,blob=local_file_name)\n",
    "with open(file=upload_file_path,mode='rb') as data:\n",
    "    blob_client.upload_blob(data)"
   ]
  },
  {
   "cell_type": "code",
   "execution_count": 13,
   "id": "c8f39944",
   "metadata": {},
   "outputs": [
    {
     "name": "stdout",
     "output_type": "stream",
     "text": [
      "\tbec61837-169c-4653-b28b-7f40ff9700e6.txt\n"
     ]
    }
   ],
   "source": [
    "#파일 목록 확인\n",
    "blob_list=container_client.list_blobs()\n",
    "for blob in blob_list:\n",
    "    print(\"\\t\"+blob.name)\n"
   ]
  },
  {
   "cell_type": "code",
   "execution_count": 16,
   "id": "8871776e",
   "metadata": {},
   "outputs": [],
   "source": [
    "#업로드된 파일 다운로드\n",
    "download_file_path=os.path.join(local_path,str.replace(local_file_name,\"txt\",'DOWNLOAD.txt'))\n",
    "\n",
    "container_client = blob_service_clinet.get_container_client(container=container_name)\n",
    "with open(file=download_file_path,mode='wb') as download_file:\n",
    "    download_file.write(container_client.download_blob(blob.name).readall())"
   ]
  },
  {
   "cell_type": "code",
   "execution_count": 17,
   "id": "a852bdfe",
   "metadata": {},
   "outputs": [
    {
     "name": "stdout",
     "output_type": "stream",
     "text": [
      "Press the Enter key to begin clean up\n",
      "\n",
      "Deleting blob container...\n",
      "Deleting the local source and downloaded files...\n",
      "Done!\n"
     ]
    }
   ],
   "source": [
    "#실습 자원 정리\n",
    "print('Press the Enter key to begin clean up')\n",
    "input()\n",
    "\n",
    "print('Deleting blob container...')\n",
    "container_client.delete_container()\n",
    "\n",
    "\n",
    "print(\"Deleting the local source and downloaded files...\")\n",
    "os.remove(upload_file_path)\n",
    "os.remove(download_file_path)\n",
    "os.rmdir(local_path)\n",
    "\n",
    "print(\"Done!\")"
   ]
  },
  {
   "cell_type": "code",
   "execution_count": null,
   "id": "fc1d4597",
   "metadata": {},
   "outputs": [],
   "source": []
  }
 ],
 "metadata": {
  "kernelspec": {
   "display_name": "Python 3 (ipykernel)",
   "language": "python",
   "name": "python3"
  },
  "language_info": {
   "codemirror_mode": {
    "name": "ipython",
    "version": 3
   },
   "file_extension": ".py",
   "mimetype": "text/x-python",
   "name": "python",
   "nbconvert_exporter": "python",
   "pygments_lexer": "ipython3",
   "version": "3.9.12"
  }
 },
 "nbformat": 4,
 "nbformat_minor": 5
}

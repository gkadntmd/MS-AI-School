{
 "cells": [
  {
   "cell_type": "code",
   "execution_count": 1,
   "id": "1291a474",
   "metadata": {},
   "outputs": [
    {
     "name": "stdout",
     "output_type": "stream",
     "text": [
      "Collecting azure-eventhub\n",
      "  Downloading azure_eventhub-5.10.1-py3-none-any.whl (150 kB)\n",
      "     -------------------------------------- 150.7/150.7 kB 4.4 MB/s eta 0:00:00\n",
      "Collecting uamqp<2.0.0,>=1.6.0\n",
      "  Downloading uamqp-1.6.3-cp39-cp39-win_amd64.whl (849 kB)\n",
      "     -------------------------------------- 849.2/849.2 kB 9.0 MB/s eta 0:00:00\n",
      "Requirement already satisfied: azure-core<2.0.0,>=1.14.0 in c:\\users\\user\\anaconda3\\lib\\site-packages (from azure-eventhub) (1.26.1)\n",
      "Requirement already satisfied: typing-extensions>=4.0.1 in c:\\users\\user\\anaconda3\\lib\\site-packages (from azure-eventhub) (4.1.1)\n",
      "Requirement already satisfied: requests>=2.18.4 in c:\\users\\user\\anaconda3\\lib\\site-packages (from azure-core<2.0.0,>=1.14.0->azure-eventhub) (2.27.1)\n",
      "Requirement already satisfied: six>=1.11.0 in c:\\users\\user\\anaconda3\\lib\\site-packages (from azure-core<2.0.0,>=1.14.0->azure-eventhub) (1.16.0)\n",
      "Requirement already satisfied: certifi>=2017.4.17 in c:\\users\\user\\anaconda3\\lib\\site-packages (from uamqp<2.0.0,>=1.6.0->azure-eventhub) (2021.10.8)\n",
      "Requirement already satisfied: urllib3<1.27,>=1.21.1 in c:\\users\\user\\anaconda3\\lib\\site-packages (from requests>=2.18.4->azure-core<2.0.0,>=1.14.0->azure-eventhub) (1.26.9)\n",
      "Requirement already satisfied: charset-normalizer~=2.0.0 in c:\\users\\user\\anaconda3\\lib\\site-packages (from requests>=2.18.4->azure-core<2.0.0,>=1.14.0->azure-eventhub) (2.0.4)\n",
      "Requirement already satisfied: idna<4,>=2.5 in c:\\users\\user\\anaconda3\\lib\\site-packages (from requests>=2.18.4->azure-core<2.0.0,>=1.14.0->azure-eventhub) (3.3)\n",
      "Installing collected packages: uamqp, azure-eventhub\n",
      "Successfully installed azure-eventhub-5.10.1 uamqp-1.6.3\n"
     ]
    }
   ],
   "source": [
    "!pip install azure-eventhub"
   ]
  },
  {
   "cell_type": "code",
   "execution_count": 2,
   "id": "0732d402",
   "metadata": {},
   "outputs": [],
   "source": [
    "from azure.eventhub.aio import EventHubProducerClient\n",
    "from azure.eventhub import EventData"
   ]
  },
  {
   "cell_type": "code",
   "execution_count": 3,
   "id": "cbe39bfd",
   "metadata": {},
   "outputs": [],
   "source": [
    "eventhub=EventHubProducerClient.from_connection_string(conn_str='스트링키 입력'"
   ]
  },
  {
   "cell_type": "code",
   "execution_count": 4,
   "id": "56180d36",
   "metadata": {},
   "outputs": [
    {
     "name": "stderr",
     "output_type": "stream",
     "text": [
      "C:\\Users\\user\\AppData\\Local\\Temp\\ipykernel_11448\\933146091.py:7: RuntimeWarning: coroutine 'EventHubProducerClient.send_event' was never awaited\n",
      "  eventhub.send_event(EventData(message))\n",
      "RuntimeWarning: Enable tracemalloc to get the object allocation traceback\n"
     ]
    },
    {
     "name": "stdout",
     "output_type": "stream",
     "text": [
      "message 10 sending...\n",
      "message 20 sending...\n",
      "message 30 sending...\n",
      "message 40 sending...\n",
      "message 50 sending...\n",
      "message 60 sending...\n",
      "message 70 sending...\n",
      "message 80 sending...\n",
      "message 90 sending...\n",
      "message 100 sending...\n",
      "message 110 sending...\n",
      "message 120 sending...\n",
      "message 130 sending...\n",
      "message 140 sending...\n",
      "message 150 sending...\n",
      "message 160 sending...\n",
      "message 170 sending...\n",
      "message 180 sending...\n",
      "message 190 sending...\n",
      "message 200 sending...\n",
      "message 210 sending...\n",
      "message 220 sending...\n",
      "message 230 sending...\n",
      "message 240 sending...\n",
      "message 250 sending...\n",
      "message 260 sending...\n",
      "message 270 sending...\n",
      "message 280 sending...\n",
      "message 290 sending...\n",
      "message 300 sending...\n",
      "message 310 sending...\n",
      "message 320 sending...\n",
      "message 330 sending...\n",
      "message 340 sending...\n",
      "message 350 sending...\n",
      "message 360 sending...\n",
      "message 370 sending...\n",
      "message 380 sending...\n",
      "message 390 sending...\n",
      "message 400 sending...\n",
      "message 410 sending...\n",
      "message 420 sending...\n",
      "message 430 sending...\n",
      "message 440 sending...\n",
      "message 450 sending...\n",
      "message 460 sending...\n",
      "message 470 sending...\n",
      "message 480 sending...\n",
      "message 490 sending...\n",
      "message 500 sending...\n",
      "message 510 sending...\n",
      "message 520 sending...\n",
      "message 530 sending...\n",
      "message 540 sending...\n",
      "message 550 sending...\n",
      "message 560 sending...\n",
      "message 570 sending...\n",
      "message 580 sending...\n",
      "message 590 sending...\n",
      "message 600 sending...\n",
      "message 610 sending...\n",
      "message 620 sending...\n",
      "message 630 sending...\n",
      "message 640 sending...\n",
      "message 650 sending...\n",
      "message 660 sending...\n",
      "message 670 sending...\n",
      "message 680 sending...\n",
      "message 690 sending...\n",
      "message 700 sending...\n",
      "message 710 sending...\n",
      "message 720 sending...\n",
      "message 730 sending...\n",
      "message 740 sending...\n",
      "message 750 sending...\n",
      "message 760 sending...\n",
      "message 770 sending...\n",
      "message 780 sending...\n",
      "message 790 sending...\n",
      "message 800 sending...\n",
      "message 810 sending...\n",
      "message 820 sending...\n",
      "message 830 sending...\n",
      "message 840 sending...\n",
      "message 850 sending...\n",
      "message 860 sending...\n",
      "message 870 sending...\n",
      "message 880 sending...\n",
      "message 890 sending...\n",
      "message 900 sending...\n"
     ]
    },
    {
     "ename": "KeyboardInterrupt",
     "evalue": "",
     "output_type": "error",
     "traceback": [
      "\u001b[1;31m---------------------------------------------------------------------------\u001b[0m",
      "\u001b[1;31mKeyboardInterrupt\u001b[0m                         Traceback (most recent call last)",
      "Input \u001b[1;32mIn [4]\u001b[0m, in \u001b[0;36m<cell line: 6>\u001b[1;34m()\u001b[0m\n\u001b[0;32m     10\u001b[0m \u001b[38;5;28;01mif\u001b[39;00m i\u001b[38;5;241m%\u001b[39m\u001b[38;5;241m10\u001b[39m\u001b[38;5;241m==\u001b[39m\u001b[38;5;241m0\u001b[39m:\n\u001b[0;32m     11\u001b[0m     \u001b[38;5;28mprint\u001b[39m(\u001b[38;5;124m\"\u001b[39m\u001b[38;5;124mmessage \u001b[39m\u001b[38;5;132;01m{}\u001b[39;00m\u001b[38;5;124m sending...\u001b[39m\u001b[38;5;124m\"\u001b[39m\u001b[38;5;241m.\u001b[39mformat(i))\n\u001b[1;32m---> 12\u001b[0m \u001b[43mtime\u001b[49m\u001b[38;5;241;43m.\u001b[39;49m\u001b[43msleep\u001b[49m\u001b[43m(\u001b[49m\u001b[38;5;241;43m2\u001b[39;49m\u001b[43m)\u001b[49m\n",
      "\u001b[1;31mKeyboardInterrupt\u001b[0m: "
     ]
    }
   ],
   "source": [
    "import time\n",
    "from datetime import datetime\n",
    "\n",
    "i=0\n",
    "while(1):\n",
    "    message='time: '+str(datetime.now())\n",
    "    eventhub.send_event(EventData(message))\n",
    "    \n",
    "    i += 1\n",
    "    if i%10==0:\n",
    "        print(\"message {} sending...\".format(i))\n",
    "    time.sleep(2)"
   ]
  },
  {
   "cell_type": "code",
   "execution_count": null,
   "id": "952fa1d9",
   "metadata": {},
   "outputs": [],
   "source": []
  }
 ],
 "metadata": {
  "kernelspec": {
   "display_name": "Python 3 (ipykernel)",
   "language": "python",
   "name": "python3"
  },
  "language_info": {
   "codemirror_mode": {
    "name": "ipython",
    "version": 3
   },
   "file_extension": ".py",
   "mimetype": "text/x-python",
   "name": "python",
   "nbconvert_exporter": "python",
   "pygments_lexer": "ipython3",
   "version": "3.9.12"
  }
 },
 "nbformat": 4,
 "nbformat_minor": 5
}
